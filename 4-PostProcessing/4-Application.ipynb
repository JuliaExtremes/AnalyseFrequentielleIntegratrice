{
 "cells": [
  {
   "cell_type": "markdown",
   "metadata": {},
   "source": [
    "# Analyse fréquentielle intégratrice\n",
    "\n",
    "## Activité de transfert - 21 juillet 2022\n",
    "\n",
    "préparée par :\n",
    "- Duy Anh Alexandre\n",
    "- Gabriel Gobeil\n",
    "- Jonathan Jalbert\n",
    "\n",
    "## Partie 4 : Post-traitement des simulations  pour l'analyse fréquentielle des débits projetés\n",
    "\n",
    "Dans cette application, vous reprendrez les grandes étapes du calepin 4-PostProcessing.ipynb pour le tronçon de la rivière Famine : SLSO00160\n",
    "\n",
    "Vous n'avez qu'à compléter les cellules où il est spécificié **#TODO**.\n"
   ]
  },
  {
   "cell_type": "markdown",
   "metadata": {},
   "source": [
    "---\n",
    "# 1. Chargement des librairies et des fonctions utiles <a name=\"preparation\"></a>"
   ]
  },
  {
   "cell_type": "code",
   "execution_count": null,
   "metadata": {},
   "outputs": [],
   "source": [
    "# Chargement des librairies\n",
    "using CSV, DataFrames, Dates, NetCDF\n",
    "using Distributions, Extremes\n",
    "using Mamba\n",
    "using Gadfly\n",
    "using ProgressMeter, StatsBase\n",
    "\n",
    "using ErrorsInVariablesExtremes\n",
    "\n",
    "using Serialization"
   ]
  },
  {
   "cell_type": "code",
   "execution_count": null,
   "metadata": {
    "scrolled": true
   },
   "outputs": [],
   "source": [
    "include(\"../3-SimulationFrequencyAnalysis/3-utils.jl\")\n",
    "include(\"../3-SimulationFrequencyAnalysis/3-hierarchicalbayesmodel.jl\")\n",
    "include(\"../3-SimulationFrequencyAnalysis/3-hierarchicalbayeseva.jl\")\n",
    "include(\"4-utils.jl\");"
   ]
  },
  {
   "cell_type": "markdown",
   "metadata": {},
   "source": [
    "---\n",
    "# 2. Chargement des résultats <a name=\"data\"></a>\n",
    "\n",
    "Les modèles ajustés des parties 2 et 3 sont chargés avec la fonction `deserialize` de la librairie Julia de base `Serialization`.\n",
    "\n",
    "## 2.1 Chargement du modèle pour les pseudo-observations <a name=\"data1\"></a>"
   ]
  },
  {
   "cell_type": "code",
   "execution_count": null,
   "metadata": {},
   "outputs": [],
   "source": [
    "fm_obs = deserialize(\"../2-PseudoObservationsFrequencyAnalysis/2-Results/Famine_pseudoObs.txt\")"
   ]
  },
  {
   "cell_type": "markdown",
   "metadata": {},
   "source": [
    "## 2.2 Chargement du modèle pour les simulations hydroclimatiques <a name=\"data2\"></a>"
   ]
  },
  {
   "cell_type": "code",
   "execution_count": null,
   "metadata": {},
   "outputs": [],
   "source": [
    "fm_sim = deserialize(\"../3-SimulationFrequencyAnalysis/3-Results/Famine_sim.txt\")"
   ]
  },
  {
   "cell_type": "markdown",
   "metadata": {},
   "source": [
    "## 2.3 Affichage des deux modèles"
   ]
  },
  {
   "cell_type": "code",
   "execution_count": null,
   "metadata": {},
   "outputs": [],
   "source": [
    "# Conversion des pseudo-obs dans un DataFrame\n",
    "\n",
    "df_obs = DataFrame(Year = getyears(fm_obs)[1], \n",
    "    Value = vec(mean(fm_obs.maxima.value, dims=1)),\n",
    "    Source = \"Pseudo Obs\");"
   ]
  },
  {
   "cell_type": "code",
   "execution_count": null,
   "metadata": {},
   "outputs": [],
   "source": [
    "# Conversion des simulations dans un DataFrame\n",
    "\n",
    "df_sim = DataFrame(Year = Int64[], Value = Float64[])\n",
    "\n",
    "years_sim = collect(1955:1:2099);\n",
    "\n",
    "for fm in fm_sim.fittedmodels\n",
    "   append!(df_sim, DataFrame(Year = years_sim, Value = fm.model.data.value)) \n",
    "end\n",
    "\n",
    "df_sim[:,:Source] .= \"Sim\";"
   ]
  },
  {
   "cell_type": "code",
   "execution_count": null,
   "metadata": {},
   "outputs": [],
   "source": [
    "# Concaténation dans un seul DataFrame\n",
    "df = vcat(df_obs, df_sim)\n",
    "first(df, 5)"
   ]
  },
  {
   "cell_type": "code",
   "execution_count": null,
   "metadata": {},
   "outputs": [],
   "source": [
    "# Affichage des pseudo-obs et des simulations\n",
    "\n",
    "Gadfly.set_default_plot_size(12cm, 8cm)\n",
    "plot(df, x=:Year, y=:Value, color=:Source, Geom.point)"
   ]
  },
  {
   "cell_type": "markdown",
   "metadata": {},
   "source": [
    "---\n",
    "# 3. Post-traitement <a name=\"postprocessing\"></a>\n",
    "\n",
    "La distribution des débits simulés (points jaunes) est mise à l'échelle de la distribution des pseudo-observations (points bleus). \n",
    "\n",
    "Dans la méthode de post-traitement développée, une année de référence doit être choisie. Ici, on choisit la dernière années des pseudo observation, soit l'année 2020.\n",
    "\n",
    "La fonction `postprocess` effectue le post-traitement des simulations. Elle prend en entrée :\n",
    "- le modèle ajusté pour les pseudo-observations ;\n",
    "- le modèle ajusté pour les simulations ;\n",
    "- l'année de référence.\n",
    "\n",
    "La fonction retourne une matrice de distributions GEV modélisant les débits sur toute la période de simulation."
   ]
  },
  {
   "cell_type": "code",
   "execution_count": null,
   "metadata": {},
   "outputs": [],
   "source": [
    "#TODO: Post-traitez les simulations en utilisant le modèle ajusté pour les pseudo-observations et \n",
    "# l'année 2020 comme référence.\n"
   ]
  },
  {
   "cell_type": "markdown",
   "metadata": {},
   "source": [
    "---\n",
    "# 4. Résultats <a name=\"resultats\"></a>\n",
    "\n",
    "## 4.1 Affichage de la tendance post-traitée\n",
    "\n",
    "Avec les pseudo-observations en filigrane\n",
    "\n"
   ]
  },
  {
   "cell_type": "code",
   "execution_count": null,
   "metadata": {},
   "outputs": [],
   "source": [
    "#TODO: Calculez la moyenne de la série post-traitée\n"
   ]
  },
  {
   "cell_type": "code",
   "execution_count": null,
   "metadata": {},
   "outputs": [],
   "source": [
    "#TODO: Affichez la moyenne de la série post-traitée\n"
   ]
  },
  {
   "cell_type": "markdown",
   "metadata": {},
   "source": [
    "## 4.2 Calculs des quantiles effectifs post-traités\n",
    "\n",
    "### Calcul sur la période d'observation"
   ]
  },
  {
   "cell_type": "code",
   "execution_count": null,
   "metadata": {},
   "outputs": [],
   "source": [
    "T = 20\n",
    "\n",
    "#TODO: Calculez les quantiles effectifs de la série post-traité\n"
   ]
  },
  {
   "cell_type": "code",
   "execution_count": null,
   "metadata": {},
   "outputs": [],
   "source": [
    "#TODO: Calculez les intervalles de crédibilité à 95% des quantiles effectifs de la série post-traité\n"
   ]
  },
  {
   "cell_type": "code",
   "execution_count": null,
   "metadata": {},
   "outputs": [],
   "source": [
    "#TODO: Affichez les estimations des quantiles effectifs ainsi que leurs intervalles de crédibilité\n"
   ]
  }
 ],
 "metadata": {
  "@webio": {
   "lastCommId": null,
   "lastKernelId": null
  },
  "hide_input": false,
  "kernelspec": {
   "display_name": "Julia 1.7.3",
   "language": "julia",
   "name": "julia-1.7"
  },
  "language_info": {
   "file_extension": ".jl",
   "mimetype": "application/julia",
   "name": "julia",
   "version": "1.7.3"
  }
 },
 "nbformat": 4,
 "nbformat_minor": 5
}
