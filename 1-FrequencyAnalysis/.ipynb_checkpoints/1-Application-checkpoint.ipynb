{
 "cells": [
  {
   "cell_type": "markdown",
   "metadata": {},
   "source": [
    "# Analyse fréquentielle intégratrice\n",
    "\n",
    "## Activité de transfert - 21 juillet 2022\n",
    "\n",
    "préparée par :\n",
    "- Duy Anh Alexandre\n",
    "- Gabriel Gobeil\n",
    "- Jonathan Jalbert\n",
    "\n",
    "## Application 1 : Analyse fréquentielle classique\n",
    "\n",
    "Dans cette application, vous reprendrez les grandes étapes du calepin 1-FrequencyAnalysis.pynb pour les données de la rivière Famine.\n",
    "\n",
    "Vous n'avez qu'à compléter les cellules où il est spécificié **#TODO**."
   ]
  },
  {
   "cell_type": "markdown",
   "metadata": {},
   "source": [
    "---\n",
    "# 1. Chargement des librairies et des fonctions utiles <a name=\"preparation\"></a>"
   ]
  },
  {
   "cell_type": "code",
   "execution_count": null,
   "metadata": {},
   "outputs": [],
   "source": [
    "# Chargement des librairies\n",
    "using CSV, DataFrames, Dates\n",
    "using Distributions, Extremes, LinearAlgebra, Mamba, Random, Statistics\n",
    "using Gadfly\n",
    "using ProgressMeter, StatsBase\n",
    "\n",
    "# Chargement des fonctions utiles (fonctions maisons)\n",
    "include(\"1-utils.jl\");"
   ]
  },
  {
   "cell_type": "markdown",
   "metadata": {},
   "source": [
    "---\n",
    "# 2. Chargement des données <a name=\"data\"></a>\n",
    "\n",
    "## 2.1 Chargement des débits observés <a name=\"data_loading\"></a>\n",
    "\n",
    "#### Chargement des données directement à partir du site web du MELCC\n",
    "\n",
    "Pour cet exercice, nous utiliserons les données de la station Famine qui se trouve à 6,3 km en amont du pont-route 173 à Saint-Georges. Ces données sont disponibles sous la forme d'un fichier .txt se trouvant à l'adresse suivante : https://www.cehq.gouv.qc.ca/depot/historique_donnees/fichier/023422_Q.txt\n",
    "\n"
   ]
  },
  {
   "cell_type": "code",
   "execution_count": null,
   "metadata": {},
   "outputs": [],
   "source": [
    "# Adresse des données de la rivière Chaudière\n",
    "data_url = \"https://www.cehq.gouv.qc.ca/depot/historique_donnees/fichier/023422_Q.txt\"\n",
    "\n",
    "# Chargement des données dans un DataFrame\n",
    "discharge = get_discharge_from_txt(data_url)\n",
    "\n",
    "# Affichage des 5 premières lignes du DataFrame\n",
    "first(discharge, 5) "
   ]
  },
  {
   "cell_type": "markdown",
   "metadata": {},
   "source": [
    "## 2.2 Chargement des variables explicatives <a name=\"covariable\"></a>\n",
    "\n",
    "La concentration annuelle équivalente de CO₂ dans l'atmosphère sera utilisée comme variable expliquant la non-stationnarité."
   ]
  },
  {
   "cell_type": "code",
   "execution_count": null,
   "metadata": {},
   "outputs": [],
   "source": [
    "# Chargement des données\n",
    "CO2 = CSV.read(\"../0-Data/0-RCP/RCPdata.csv\", DataFrame)  \n",
    "\n",
    "# Sélection du scénario RCP8.5 (En période historique, le choix du scénario n'a pas d'impact)\n",
    "select!(CO2, :Year, :RCP85)\n",
    "\n",
    "# Modifier les noms des colonnes du DataFrame contenant les données\n",
    "rename!(CO2, :Year => :Année, :RCP85 => :CO2)\n",
    "\n",
    "# Affichage des 5 premières lignes\n",
    "first(CO2, 5)"
   ]
  },
  {
   "cell_type": "markdown",
   "metadata": {},
   "source": [
    "## 2.3 Affichage des données chargées <a name=\"data_viz\"></a>\n",
    "\n",
    "#### Affichage des débits"
   ]
  },
  {
   "cell_type": "code",
   "execution_count": null,
   "metadata": {},
   "outputs": [],
   "source": [
    "plot(discharge, x=:Date, y=:Débit, Geom.line)"
   ]
  },
  {
   "cell_type": "markdown",
   "metadata": {},
   "source": [
    "---\n",
    "# 3. Traitement des données <a name=\"traitement\"></a>\n",
    "\n",
    "## 3.1 Extraction des maxima annuels des débits journaliers <a name=\"extraction\"></a>\n",
    "\n",
    "À partir des données journalières de débit, il est possible d'obtenir les maxima annuels grâce aux fonctions `groupby()` et `combine()` définies pour les DataFrames. \n",
    "\n",
    "Comme on cherche à grouper les données par année, on va d'abord faire l'**ajout d'une colonne** pour les années à partir de la colonne des dates."
   ]
  },
  {
   "cell_type": "code",
   "execution_count": null,
   "metadata": {},
   "outputs": [],
   "source": [
    "# Ajout de la variable Année au DataFrame\n",
    "discharge[:, :Année] = year.(discharge[!, :Date])\n",
    "\n",
    "# Affichage des 5 premières lignes\n",
    "first(discharge, 5)"
   ]
  },
  {
   "cell_type": "code",
   "execution_count": null,
   "metadata": {},
   "outputs": [],
   "source": [
    "# Extraction des maxima annuels\n",
    "df = combine(groupby(discharge, :Année), :Débit => maximum => :Maximum)\n",
    "\n",
    "# Affichage des 5 premières lignes\n",
    "first(df,5)"
   ]
  },
  {
   "cell_type": "markdown",
   "metadata": {},
   "source": [
    "## 3.2 Jumelage avec la concentration équivalente de CO₂  <a name=\"jumelage_co2\"></a>"
   ]
  },
  {
   "cell_type": "code",
   "execution_count": null,
   "metadata": {},
   "outputs": [],
   "source": [
    "# Jonction des DataFrames\n",
    "data = rightjoin(df, CO2, on=:Année)\n",
    "\n",
    "# Retirer les lignes avec valeurs manquantes\n",
    "dropmissing!(data, :Maximum)\n",
    "\n",
    "# Changer l'ordre d'affichage des colonnes\n",
    "select!(data, :Année, :CO2, :Maximum)\n",
    "\n",
    "# Affichage des 5 premières lignes\n",
    "first(data,5)"
   ]
  },
  {
   "cell_type": "markdown",
   "metadata": {},
   "source": [
    "## 3.3 Affichage des données traitées <a name=\"affichage_données_traitées\"></a>\n",
    "\n",
    "#### Affichage des maxima annuels en fonction du temps"
   ]
  },
  {
   "cell_type": "code",
   "execution_count": null,
   "metadata": {},
   "outputs": [],
   "source": [
    "#TODO : Tracer les maxima annuels en fonction des années\n"
   ]
  },
  {
   "cell_type": "markdown",
   "metadata": {},
   "source": [
    "#### Affichage des maxima annuels en fonction du CO₂"
   ]
  },
  {
   "cell_type": "code",
   "execution_count": null,
   "metadata": {},
   "outputs": [],
   "source": [
    "#TODO : Tracer les maxima annuels en fonction du CO₂"
   ]
  },
  {
   "cell_type": "markdown",
   "metadata": {},
   "source": [
    "---\n",
    "# 4. Modélisation classique des maxima annuels <a name=\"modelisation\"></a>\n"
   ]
  },
  {
   "cell_type": "markdown",
   "metadata": {},
   "source": [
    "## 4.1 Modèle stationnaire <a name=\"mstat\"></a>\n",
    "\n",
    "### 4.1.1 Estimation des paramètres de la loi GEV\n",
    "\n",
    "L'estimation des paramètres de la loi GEV s'effectue en utilisant la fonction [`gevfit()`](https://jojal5.github.io/Extremes.jl/stable/functions/#Extremes.gevfit)."
   ]
  },
  {
   "cell_type": "code",
   "execution_count": null,
   "metadata": {},
   "outputs": [],
   "source": [
    "#TODO: Estimez les paramètres de la loi GEV stationnaire par maximum de la vraisemblance\n"
   ]
  },
  {
   "cell_type": "code",
   "execution_count": null,
   "metadata": {},
   "outputs": [],
   "source": [
    "#TODO: Calculez les intervalles de confiance des paramètres de la loi GEV stationnaire\n"
   ]
  },
  {
   "cell_type": "markdown",
   "metadata": {},
   "source": [
    "### 4.1.2 Figures diagnostiques\n",
    "\n",
    "Les figures diagnostiques peuvent être tracées avec [`diagnosticplots()`](https://jojal5.github.io/Extremes.jl/stable/functions/#Extremes.diagnosticplots-Tuple{fittedEVA}) :"
   ]
  },
  {
   "cell_type": "code",
   "execution_count": null,
   "metadata": {},
   "outputs": [],
   "source": [
    "#TODO: Tracez les figures diagnostiques\n"
   ]
  },
  {
   "cell_type": "markdown",
   "metadata": {},
   "source": [
    "###  4.1.3. Estimation des niveaux de retour\n",
    "\n",
    "L'estimation du niveau de retour peut être obtenue à l'aide de la fonction [`returnlevel()`](https://jojal5.github.io/Extremes.jl/stable/functions/#Extremes.returnlevel-Tuple{BayesianEVA{BlockMaxima},%20Real})."
   ]
  },
  {
   "cell_type": "code",
   "execution_count": null,
   "metadata": {},
   "outputs": [],
   "source": [
    "#TODO: Estimez la valeur qui est excédée en moyenne une fois au 20 ans.\n"
   ]
  },
  {
   "cell_type": "markdown",
   "metadata": {},
   "source": [
    "Un intervalle de confiance sur le niveau de retour peut être obtenu de la fonction [`cint()`](https://jojal5.github.io/Extremes.jl/stable/functions/#Extremes.cint) :"
   ]
  },
  {
   "cell_type": "code",
   "execution_count": null,
   "metadata": {},
   "outputs": [],
   "source": [
    "# TODO: Calculez l'intervalle de confiance à 95% de cette valeur.\n"
   ]
  },
  {
   "cell_type": "markdown",
   "metadata": {},
   "source": [
    "## 4.2 Modèles non stationnaire <a name=\"mnstat\"></a>\n",
    "\n",
    "### 4.2.1 Estimation des paramètres"
   ]
  },
  {
   "cell_type": "code",
   "execution_count": null,
   "metadata": {},
   "outputs": [],
   "source": [
    "#TODO: Estimez la loi GEV avec le paramètre de localisation qui dépend du CO₂.\n"
   ]
  },
  {
   "cell_type": "markdown",
   "metadata": {},
   "source": [
    "Les intervalles de confiances sur les paramètres peuvent être obtenus avec [`cint()`](https://jojal5.github.io/Extremes.jl/stable/functions/#Extremes.cint)"
   ]
  },
  {
   "cell_type": "code",
   "execution_count": null,
   "metadata": {},
   "outputs": [],
   "source": [
    "#TODO: Calculez les intervalles de confiance.\n"
   ]
  },
  {
   "cell_type": "markdown",
   "metadata": {},
   "source": [
    "### 4.2.2 Figures diagnostiques\n",
    "\n",
    "Les figures diagnostiques peuvent être tracées avec [`diagnosticplots()`](https://jojal5.github.io/Extremes.jl/stable/functions/#Extremes.diagnosticplots-Tuple{fittedEVA}) :"
   ]
  },
  {
   "cell_type": "code",
   "execution_count": null,
   "metadata": {},
   "outputs": [],
   "source": [
    "#TODO: Tracez les figures diagnostiques du modèle non stationnaire."
   ]
  },
  {
   "cell_type": "markdown",
   "metadata": {},
   "source": [
    "### 4.2.3 Comparaison des modèles\n",
    "\n",
    "Les différents modèles peuvent êtres comparés à l'aide du BIC. Pour l'instant une fonction calculant le BIC n'est pas encore disponible dans `Extremes`. Elle le sera prochainement."
   ]
  },
  {
   "cell_type": "code",
   "execution_count": null,
   "metadata": {},
   "outputs": [],
   "source": [
    "#TODO: Calulez le BIC du modèle stationnaire et du modèle non stationnaire et choisissez le meilleur modèle.\n"
   ]
  },
  {
   "cell_type": "markdown",
   "metadata": {},
   "source": [
    "###  4.2.4. Estimation des niveaux de retour\n",
    "\n",
    "Les estimations des niveaux de retour à chaque année peuvent être obtenues à l'aide de la fonction [`returnlevel()`](https://jojal5.github.io/Extremes.jl/stable/functions/#Extremes.returnlevel-Tuple{BayesianEVA{BlockMaxima},%20Real})."
   ]
  },
  {
   "cell_type": "code",
   "execution_count": null,
   "metadata": {},
   "outputs": [],
   "source": [
    "#TODO: Calculer la valeur effective qui est dépassée en moyenne une fois au 20 ans.\n"
   ]
  },
  {
   "cell_type": "code",
   "execution_count": null,
   "metadata": {},
   "outputs": [],
   "source": [
    "#TODO: Calculer les intervalles de confiance\n"
   ]
  },
  {
   "cell_type": "markdown",
   "metadata": {},
   "source": [
    "---\n",
    "# 5. Modélisation bayésienne des maxima annuels <a name=\"bayes\"></a>\n",
    "\n",
    "## 5.1 Estimation des paramètres <a name=\"param_estimation\"></a>\n",
    "\n",
    "L'estimation bayésienne des paramètres s'effectue de la même façon analogue en utilisant la fonction [`gevfitbayes()`](https://jojal5.github.io/Extremes.jl/stable/functions/#Extremes.gevfitbayes). Les intervalles de crédibilité sont obtenus en utilisant la fonction [`cint()`](https://jojal5.github.io/Extremes.jl/stable/functions/#Extremes.cint)."
   ]
  },
  {
   "cell_type": "code",
   "execution_count": null,
   "metadata": {},
   "outputs": [],
   "source": [
    "#TODO: Estimez de façon bayésienne les paramètres du modèle stationnaire\n"
   ]
  },
  {
   "cell_type": "code",
   "execution_count": null,
   "metadata": {},
   "outputs": [],
   "source": [
    "#TODO: Estimez les intervalles de crédibilité bayésien\n"
   ]
  }
 ],
 "metadata": {
  "@webio": {
   "lastCommId": null,
   "lastKernelId": null
  },
  "hide_input": false,
  "kernelspec": {
   "display_name": "Julia 1.7.3",
   "language": "julia",
   "name": "julia-1.7"
  },
  "language_info": {
   "file_extension": ".jl",
   "mimetype": "application/julia",
   "name": "julia",
   "version": "1.7.3"
  }
 },
 "nbformat": 4,
 "nbformat_minor": 2
}
