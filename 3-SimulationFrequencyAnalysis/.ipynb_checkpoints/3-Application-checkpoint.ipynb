{
 "cells": [
  {
   "cell_type": "markdown",
   "metadata": {},
   "source": [
    "# Analyse fréquentielle intégratrice\n",
    "\n",
    "## Activité de transfert - 21 juillet 2022\n",
    "\n",
    "préparée par :\n",
    "- Duy Anh Alexandre\n",
    "- Gabriel Gobeil\n",
    "- Jonathan Jalbert\n",
    "\n",
    "## Application 3 : Analyse fréquentielle des simulations hydroclimatiques\n",
    "\n",
    "Dans cette application, vous reprendrez les grandes étapes du calepin 3-SimulationFrequencyAnalysis.ipynb pour le tronçon de la rivière Famine : SLSO00160\n",
    "\n",
    "Vous n'avez qu'à compléter les cellules où il est spécificié **#TODO**."
   ]
  },
  {
   "cell_type": "markdown",
   "metadata": {},
   "source": [
    "---\n",
    "# 1. Chargement des librairies et des fonctions utiles <a name=\"preparation\"></a>"
   ]
  },
  {
   "cell_type": "code",
   "execution_count": null,
   "metadata": {},
   "outputs": [],
   "source": [
    "# Chargement des librairies\n",
    "using CSV, DataFrames, Dates, NetCDF\n",
    "using Distributions, Extremes, LinearAlgebra, Mamba, Random, Statistics\n",
    "using Gadfly\n",
    "using ProgressMeter, StatsBase\n",
    "\n",
    "using Test\n",
    "\n",
    "using ErrorsInVariablesExtremes"
   ]
  },
  {
   "cell_type": "code",
   "execution_count": null,
   "metadata": {},
   "outputs": [],
   "source": [
    "include(\"3-utils.jl\")\n",
    "include(\"3-hierarchicalbayesmodel.jl\")\n",
    "include(\"3-hierarchicalbayeseva.jl\");"
   ]
  },
  {
   "cell_type": "markdown",
   "metadata": {},
   "source": [
    "---\n",
    "# 2. Chargement des données <a name=\"data\"></a>\n",
    "\n",
    "## 2.1 Chargement des simulations hydroclimatiques <a name=\"data_loading\"></a>\n",
    "\n",
    "#### Description des données\n",
    "\n",
    "Les données se trouvent dans le fichier ```A2020_Simulation_Hydroclimatique_QMA_SLSO00160.nc``` qui contient 1080 simulations de débits produites par le modèle HYDROTEL en utilisant 6 configurations pour 180 simulations climatiques provenant de différents couples GCM-RCM de 1956 à 2100 (145 ans).\n",
    "\n",
    "#### Chargement des données"
   ]
  },
  {
   "cell_type": "code",
   "execution_count": null,
   "metadata": {},
   "outputs": [],
   "source": [
    "filename = \"../0-Data/0-Simulations/A2020_Simulation_Hydroclimatique_QMA_SLSO00160.nc\"\n",
    "data = load_discharge_simulations(filename)\n",
    "first(data,1)"
   ]
  },
  {
   "cell_type": "markdown",
   "metadata": {},
   "source": [
    "## 2.2. Sélection des simulations hydroclimatiques <a name=\"data_selection\"></a>"
   ]
  },
  {
   "cell_type": "code",
   "execution_count": null,
   "metadata": {},
   "outputs": [],
   "source": [
    "#TODO: Récupérer les lignes de votre ensemble préféré avec la commande `filter()`. \n",
    "# Pour ClimEX, décommentez la ligne suivante\n",
    "\n",
    "subdata = filter(row -> row[:Ensemble] == \"CMX\", data)\n"
   ]
  },
  {
   "cell_type": "markdown",
   "metadata": {},
   "source": [
    "---\n",
    "# 3. Modélisation bayésienne des maxima annuels simulés <a name=\"modelisation\"></a>\n",
    "\n",
    "\n",
    "## 3.1 Modèle stationnaire  <a name=\"mstat\"></a>\n",
    "\n",
    "### 3.1.1 Définition du modèle\n",
    "\n",
    "#### Couche des données\n",
    "\n",
    "\\begin{equation*}\n",
    "    f_{(X_{ij}|\\mu_i, \\phi_i, \\xi_i)}(x_{ij}) = \\mathcal{G}EV(x_{ij} \\mid \\mu_i, \\sigma_i, \\xi_i)\n",
    "\\end{equation*}\n",
    "\n",
    "où $x_{ij}$ correspond au maximum annuel de l'année j du membre i.\n",
    "\n",
    "#### Couche latente\n",
    "\n",
    "La loi normale est utilisée pour modéliser la dépendance des paramètres de la loi GEV entre les différents membres. Par exemple, pour le paramètre de localisation, on suppose que les paramètres de localisation de chacun des membres  proviennent tous d'une même distribution :\n",
    "\n",
    "\\begin{equation*}\n",
    "    f_{(\\mu_i| \\nu_0, \\tau_0)} = \\mathcal{N}(\\mu_{i} \\mid \\nu_0, \\tau_0)\n",
    "\\end{equation*}\n",
    "\n",
    "#### Loi *a priori*\n",
    "\n",
    "Une loi *a priori* vague est utilisée pour les paramèetres de la couche latente. Par exemple pour $(\\nu_0, \\tau_0)$, la loi *a priori* est la suivante :\n",
    "\n",
    "\\begin{equation*}\n",
    "    f_{(\\nu_0, \\tau_0)}(\\nu_0, \\tau_0) \\propto \\mathcal{I}nverse\\mathcal{G}amma(0.01, 0.01)\n",
    "\\end{equation*}\n",
    "\n",
    "\n",
    "#### Structure `HierarchicalBayesModel`\n",
    "\n",
    "On encapsule les données et la loi *a priori* des hyperparamètres dans la structure `HierarchicalBayesModel` :"
   ]
  },
  {
   "cell_type": "code",
   "execution_count": null,
   "metadata": {},
   "outputs": [],
   "source": [
    "# Préparation de la liste de modèles BlockMaxima avec les données\n",
    "M₁ = BlockMaxima[]\n",
    "for i in 1:size(subdata,1)\n",
    "    push!(M₁, BlockMaxima(Variable(\"y\", subdata[i, :Discharges])))\n",
    "end\n",
    "\n",
    "# Préparation du modèle hiérachique \n",
    "model1 = HierarchicalBayesModel(M₁, [Flat(), InverseGamma(0.01, 0.01)])"
   ]
  },
  {
   "cell_type": "markdown",
   "metadata": {},
   "source": [
    "### 3.1.2 Génération d'un échantillon de la loi *a posteriori* par MCMC\n",
    "\n",
    "La fonction `fitbayes` permet de générer un échantillon de la loi *a posteriori* des paramètres du modèle bayésien défini précédement. \n",
    "\n",
    "La fonction prend en entrée une structure `HierarchicalBayesModel`."
   ]
  },
  {
   "cell_type": "code",
   "execution_count": null,
   "metadata": {},
   "outputs": [],
   "source": [
    "#TODO: Générez un échantillon aléatoire de la loi a posteriori du modèle hiérarchique bayésien\n"
   ]
  },
  {
   "cell_type": "markdown",
   "metadata": {},
   "source": [
    "La fonction `transform` peut être utilisée pour obtenir le modèle ajusté avec les paramètres à l'échelle originale :"
   ]
  },
  {
   "cell_type": "code",
   "execution_count": null,
   "metadata": {},
   "outputs": [],
   "source": [
    "#TODO: Transformer à leurs échelles originales les variables du modèle avec la fonction `transform()`.\n"
   ]
  },
  {
   "cell_type": "markdown",
   "metadata": {},
   "source": [
    "### 3.1.3 Affichage de la trace des hyperparamètres\n",
    "\n",
    "Permet de constater si l'algorithme MCMC a bien convergé. Permet aussi de voir l'échelle des différents paramètres de la loi GEV."
   ]
  },
  {
   "cell_type": "code",
   "execution_count": null,
   "metadata": {},
   "outputs": [],
   "source": [
    "#TODO: Affichez la trace de certains paramètres\n"
   ]
  },
  {
   "cell_type": "markdown",
   "metadata": {},
   "source": [
    "### 3.1.4 Adéquation de la loi GEV aux membres de l'ensemble\n",
    "\n",
    "#### Adéquation pour un membre"
   ]
  },
  {
   "cell_type": "code",
   "execution_count": null,
   "metadata": {},
   "outputs": [],
   "source": [
    "#TODO: Affichez les figures diagnostiques pour un membre de l'ensemble\n"
   ]
  },
  {
   "cell_type": "markdown",
   "metadata": {},
   "source": [
    "### 3.1.5 Estimation des niveaux de retour\n",
    "\n",
    "On estime les niveaux de retour avec l'ensemble des membres. On obtient alors un échantillon aléatoire de la loi prédictive du niveau de retour."
   ]
  },
  {
   "cell_type": "code",
   "execution_count": null,
   "metadata": {},
   "outputs": [],
   "source": [
    "# Période de retour (en année)\n",
    "T = 20\n",
    "\n",
    "#TODO: Calculez le quantile correspondant à cette période de retour avec la fonction `returnlevel()`.\n"
   ]
  },
  {
   "cell_type": "code",
   "execution_count": null,
   "metadata": {},
   "outputs": [],
   "source": [
    "# Affichez l'histogramme des quantiles précédents. Il s'agit de la loi prédictive du quantile.\n"
   ]
  },
  {
   "cell_type": "markdown",
   "metadata": {},
   "source": [
    "## 3.2 Modèle non-stationnaire  <a name=\"mnstat\"></a>\n",
    "\n",
    "Le paramètre de localisation de la loi GEV est une fonction de la concentration de GES dans l'atmosphère.\n",
    "\n",
    "\\begin{equation*}\n",
    "    f_{(X_{ij}|\\mu_i, \\phi_i, \\xi_i)}(x_{ij}) = \\mathcal{G}EV(x_{ij} \\mid \\mu_{ij}, \\sigma_i, \\xi_i)\n",
    "\\end{equation*}\n",
    "\n",
    "avec\n",
    "\n",
    "\\begin{equation*}\n",
    "    \\mu_{ij} = \\mu_{0i} + \\mu_{1i} \\times u_j\n",
    "\\end{equation*}\n",
    "\n",
    "où\n",
    "\n",
    "$u_{j}$ correspond à la concentration équivalente de CO₂ dans l'atmosphère.\n",
    "\n",
    "\n",
    "### 3.2.1 Chargement des variables exlicatives"
   ]
  },
  {
   "cell_type": "code",
   "execution_count": null,
   "metadata": {},
   "outputs": [],
   "source": [
    " # Chargement des données de CO₂\n",
    "co2data = CSV.read(\"../0-Data/0-RCP/RCPdata.csv\", DataFrame);\n",
    "\n",
    "# Ajout de la covariable à la structure de données \n",
    "function get_co2(co2data, scenario, years)\n",
    "    \n",
    "    data = select(co2data, :Year, Symbol(scenario))\n",
    "    filter!(row -> row.Year in years, data)\n",
    "    \n",
    "    return data[!, Symbol(scenario)]\n",
    "end\n",
    "\n",
    "subdata[!, Symbol(\"CO₂\")] = get_co2.(Ref(co2data), subdata.Scenario, subdata.Years);"
   ]
  },
  {
   "cell_type": "markdown",
   "metadata": {},
   "source": [
    "### 3.2.2 Définition du modèle"
   ]
  },
  {
   "cell_type": "code",
   "execution_count": null,
   "metadata": {},
   "outputs": [],
   "source": [
    "# Préparation de la liste de modèles BlockMaxima avec les données\n",
    "M₂ = BlockMaxima[]\n",
    "for i in 1:size(subdata,1)\n",
    "    push!(M₂, BlockMaxima(Variable(\"y\", subdata[i, :Discharges]),\n",
    "            locationcov = [Variable(subdata[i,:Scenario], subdata[i, :CO₂])]))\n",
    "end\n",
    "\n",
    "# Préparation du modèle hiérachique \n",
    "model2 = HierarchicalBayesModel(M₂, [Flat(), InverseGamma(0.01, 0.01)])"
   ]
  },
  {
   "cell_type": "markdown",
   "metadata": {},
   "source": [
    "### 3.2.3 Génération d'un échantillon de la loi *a posteriori* par MCMC"
   ]
  },
  {
   "cell_type": "code",
   "execution_count": null,
   "metadata": {},
   "outputs": [],
   "source": [
    "#TODO: Générez un échantillon de la loi a posteriori des paramètres.\n"
   ]
  },
  {
   "cell_type": "code",
   "execution_count": null,
   "metadata": {},
   "outputs": [],
   "source": [
    "#TODO: Transformer à leurs échelles originales les variables du modèle avec la fonction `transform()`.\n"
   ]
  },
  {
   "cell_type": "markdown",
   "metadata": {},
   "source": [
    "### 3.2.3 Affichage de la trace des hyperparamètres"
   ]
  },
  {
   "cell_type": "code",
   "execution_count": null,
   "metadata": {},
   "outputs": [],
   "source": [
    "#TODO: Affichez la trace de certains paramètres\n"
   ]
  },
  {
   "cell_type": "markdown",
   "metadata": {},
   "source": [
    "### 3.2.4 Adéquation de la loi GEV aux membres de l'ensemble\n",
    "\n",
    "On ne peut pas tracer de return level plot ici car le modèle est non stationnaire.\n",
    "\n",
    "#### Adéquation pour un membre"
   ]
  },
  {
   "cell_type": "code",
   "execution_count": null,
   "metadata": {},
   "outputs": [],
   "source": [
    "#TODO: Affichez les figures diagnostiques pour un membre de l'ensemble\n"
   ]
  },
  {
   "cell_type": "markdown",
   "metadata": {},
   "source": [
    "### 3.2.5 Estimation des niveaux de retour effectifs\n",
    "\n",
    "On estime les niveaux de retour effectifs avec l'ensemble des membres. On obtient alors un échantillon aléatoire de la loi prédictive des niveaux de retour pour chacune des années. "
   ]
  },
  {
   "cell_type": "code",
   "execution_count": null,
   "metadata": {},
   "outputs": [],
   "source": [
    "# Période de retour\n",
    "T = 20\n",
    "\n",
    "#TODO: Calculez les niveaux de retour effectifs correspondants. \n"
   ]
  },
  {
   "cell_type": "code",
   "execution_count": null,
   "metadata": {},
   "outputs": [],
   "source": [
    "#TODO: Calculez les intervalles de crédibilité à 95% des niveaux de retour effectifs. \n"
   ]
  },
  {
   "cell_type": "markdown",
   "metadata": {},
   "source": [
    "---\n",
    "# 4. Sélection de modèle  <a name=\"selection\"></a>\n",
    "\n",
    "La fonction `dic`permet de calculer le critère d'information de déviation (DIC) :"
   ]
  },
  {
   "cell_type": "code",
   "execution_count": null,
   "metadata": {},
   "outputs": [],
   "source": [
    "#TODO: Calculez le dic du modèle stationnaire et du modèle non stationnaire avec la fonction `dic()`.\n"
   ]
  },
  {
   "cell_type": "code",
   "execution_count": null,
   "metadata": {},
   "outputs": [],
   "source": [
    "#TODO: Choisissez le meilleur modèle, celui qui minimise le DIC.\n"
   ]
  },
  {
   "cell_type": "markdown",
   "metadata": {},
   "source": [
    "---\n",
    "# 5. Enregistrement du modèle  <a name=\"enregistrement\"></a>\n",
    "\n",
    "Pour pouvoir utiliser les résultats de l'ajustement du modèle dans les parties suivantes de l'activité sans avoir à tout recalculer, il est utile d'enregistrer les résultats. La librairie Julia de base `Serialization` permet de sérialiser la structure `HierarchicalBayesEVA` et de l'exporter sous forme de fichier .txt qui pourra être désérialiser dans les parties suivantes."
   ]
  },
  {
   "cell_type": "code",
   "execution_count": null,
   "metadata": {},
   "outputs": [],
   "source": [
    "using Serialization\n",
    "\n",
    "io = open(\"2-Results/Famine_sim.txt\", \"w\");\n",
    "\n",
    "#TODO: Remplacez fm1 par le nom de votre meilleur modèle dans la commande suivante et exécutez-la.\n",
    "serialize(io, fm1);\n",
    "\n",
    "close(io);"
   ]
  }
 ],
 "metadata": {
  "@webio": {
   "lastCommId": null,
   "lastKernelId": null
  },
  "hide_input": false,
  "kernelspec": {
   "display_name": "Julia 1.7.3",
   "language": "julia",
   "name": "julia-1.7"
  },
  "language_info": {
   "file_extension": ".jl",
   "mimetype": "application/julia",
   "name": "julia",
   "version": "1.7.3"
  }
 },
 "nbformat": 4,
 "nbformat_minor": 5
}
