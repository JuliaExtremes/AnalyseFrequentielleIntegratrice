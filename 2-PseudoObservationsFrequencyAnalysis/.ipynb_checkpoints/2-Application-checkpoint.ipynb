{
 "cells": [
  {
   "cell_type": "markdown",
   "metadata": {},
   "source": [
    "# Analyse fréquentielle intégratrice\n",
    "\n",
    "## Activité de transfert - 21 juillet 2022\n",
    "\n",
    "préparée par :\n",
    "- Duy Anh Alexandre\n",
    "- Gabriel Gobeil\n",
    "- Jonathan Jalbert\n",
    "\n",
    "## Application 2 : Analyse fréquentielle des pseudo-observations\n",
    "\n",
    "Dans cette application, vous reprendrez les grandes étapes du calepin 2-PseudoObservationsFrequencyAnalysis.ipynb pour le tronçon de la rivière Famine : SLSO00160\n",
    "\n",
    "Vous n'avez qu'à compléter les cellules où il est spécificié **#TODO**."
   ]
  },
  {
   "cell_type": "markdown",
   "metadata": {},
   "source": [
    "---\n",
    "# 1. Chargement des librairies et des fonctions utiles <a name=\"preparation\"></a>"
   ]
  },
  {
   "cell_type": "code",
   "execution_count": null,
   "metadata": {
    "scrolled": true
   },
   "outputs": [],
   "source": [
    "# Chargement des librairies\n",
    "using CSV, DataFrames\n",
    "using Distributions, Extremes, ErrorsInVariablesExtremes, Mamba\n",
    "using Gadfly"
   ]
  },
  {
   "cell_type": "markdown",
   "metadata": {},
   "source": [
    "---\n",
    "# 2. Chargement des données <a name=\"data\"></a>\n",
    "\n",
    "## 2.1 Chargement des pseudo-observations <a name=\"data_loading\"></a>\n",
    " \n",
    "\n",
    "#### Chargement des données\n",
    "\n",
    "On charge les données directement à partir du fichier NetCDF avec la fonction `load_discharge_distribution(filename)` où `filename` est le nom du fichier contant les données. Les données sont chargées dans un vecteur de [Pseudodata](https://juliaextremes.github.io/ErrorsInVariablesExtremes.jl/dev/functions/#ErrorsInVariablesExtremes.Pseudodata), une structure de donnée qui sert à encapsuler les distributions de probabilité pour chacune des données non observées."
   ]
  },
  {
   "cell_type": "code",
   "execution_count": null,
   "metadata": {},
   "outputs": [],
   "source": [
    "filename = \"../0-Data/0-PseudoObs/A2020_Analyse_Historique_QMA_SLSO00160.nc\"\n",
    "pdata = load_discharge_distribution(filename)"
   ]
  },
  {
   "cell_type": "markdown",
   "metadata": {},
   "source": [
    "## 2.2 Analyse exploratoire <a name=\"exploration\"></a>\n",
    "\n",
    "Analyse exploratoire pour visualiser les pseudo-observations."
   ]
  },
  {
   "cell_type": "markdown",
   "metadata": {},
   "source": [
    "#### Conversion en DataFrame\n",
    "\n",
    "La fonction `convert` permet de convertir le vecteur de `Pseudodata` en `DataFrame` afin de faciliter la manipulation des données avec les méthodes adaptées aux DataFrame."
   ]
  },
  {
   "cell_type": "code",
   "execution_count": null,
   "metadata": {},
   "outputs": [],
   "source": [
    "df = convert(DataFrame, pdata)\n",
    "first(df,5)"
   ]
  },
  {
   "cell_type": "markdown",
   "metadata": {},
   "source": [
    "#### Calcul de la moyenne ainsi que de l'intervalle de confiance à 1-α pour chacune des configurations\n",
    "\n",
    "À partir des distributions, il est possible de calculer facilement les quantités d'intérêt pour tracer la moyenne et l'intervalle de confiance pour chacune des configuration."
   ]
  },
  {
   "cell_type": "code",
   "execution_count": null,
   "metadata": {},
   "outputs": [],
   "source": [
    "# 1-α correspond au niveau de l'intervalle de confiance\n",
    "α = 0.5\n",
    "\n",
    "# Calcul de la médiane\n",
    "df[:, :y] = median.(df.Distribution)\n",
    "\n",
    "# Calcul du quantile inférieur de l'intervalle de confiance\n",
    "df[:, :ymin] = quantile.(df.Distribution, α/2)\n",
    "\n",
    "# Calcul du quantile supérieur de l'intervalle de confiance\n",
    "df[:, :ymax] = quantile.(df.Distribution, 1-α/2)\n",
    "\n",
    "first(df, 5)"
   ]
  },
  {
   "cell_type": "markdown",
   "metadata": {},
   "source": [
    "#### Affichage de la médiane et de l'intervalle de confiance pour toutes les configurations"
   ]
  },
  {
   "cell_type": "code",
   "execution_count": null,
   "metadata": {},
   "outputs": [],
   "source": [
    "set_default_plot_size(12cm, 8cm)\n",
    "plot(df, x=:Year, y=:y, color=:Configuration, Geom.line,\n",
    "    ymin=:ymin, ymax=:ymax, Geom.ribbon,\n",
    "    Guide.ylabel(\"Discharge [m³/s]\"))"
   ]
  },
  {
   "cell_type": "markdown",
   "metadata": {},
   "source": [
    "#### Affichage de la médiane et de l'intervalle de confiance pour une configuration"
   ]
  },
  {
   "cell_type": "code",
   "execution_count": null,
   "metadata": {},
   "outputs": [],
   "source": [
    "config = \"MG24HQ\"\n",
    "\n",
    "df2 = filter(row -> row.Configuration ==config, df)\n",
    "\n",
    "set_default_plot_size(12cm, 8cm)\n",
    "plot(df2, x=:Year, y=:y, Geom.line, Geom.point,\n",
    "    ymin=:ymin, ymax=:ymax, Geom.ribbon,\n",
    "    Guide.ylabel(\"Discharge [m³/s]\"),\n",
    "    Guide.title(config))"
   ]
  },
  {
   "cell_type": "markdown",
   "metadata": {},
   "source": [
    "---\n",
    "# 3. Modélisation bayésienne des maxima annuels non observés <a name=\"modelisation\"></a>\n",
    "\n",
    "\n",
    "## 3.1 Modèle stationnaire <a name=\"mstat\"></a>\n",
    "\n",
    "### 3.1.1 Définition du modèle\n",
    "\n",
    "On encapsule les données et la loi *a priori* dans la structure `PseudoMaximaModel` qui constitue le modèle statistique :"
   ]
  },
  {
   "cell_type": "code",
   "execution_count": null,
   "metadata": {},
   "outputs": [],
   "source": [
    "model1 = PseudoMaximaModel(pdata, prior=[Flat(), Flat(), LocationScale(-.5, 1, Beta(6,9))])"
   ]
  },
  {
   "cell_type": "markdown",
   "metadata": {},
   "source": [
    "### 3.1.2 Génération d'un échantillon de la loi *a posteriori* par MCMC et estimation des paramètres\n",
    "\n",
    "La fonction `fitbayes` permet d'obtenir un échantillon de la loi *a posteriori* des paramèetres et des maxima annuels. \n",
    "\n",
    "La fonction prend en entrée un modèle de type `PseudoMaximaModel`."
   ]
  },
  {
   "cell_type": "code",
   "execution_count": null,
   "metadata": {},
   "outputs": [],
   "source": [
    "#TODO: Générer un échantillon aléatoire de la loi *a posteriori* du modèle \"model1\".\n"
   ]
  },
  {
   "cell_type": "markdown",
   "metadata": {},
   "source": [
    "### 3.1.3 Affichage des estimations des maxima annuels\n",
    "\n",
    "À partir des chaînes inférées, il est possible de calculer facilement les quantités d'intérêt pour tracer une estimation ponctuelle des maxima annuels et son intervalle de crédibilité."
   ]
  },
  {
   "cell_type": "code",
   "execution_count": null,
   "metadata": {},
   "outputs": [],
   "source": [
    "#TODO: Calculez l'estimation des maxima annuels\n"
   ]
  },
  {
   "cell_type": "code",
   "execution_count": null,
   "metadata": {},
   "outputs": [],
   "source": [
    "#TODO: Calculez les intervalles de crédibilité des maxima annuels\n"
   ]
  },
  {
   "cell_type": "code",
   "execution_count": null,
   "metadata": {},
   "outputs": [],
   "source": [
    "#TODO: Tracez la séries des maxima estimés ainsi que l'intervalle de crédibilité\n"
   ]
  },
  {
   "cell_type": "markdown",
   "metadata": {},
   "source": [
    "### 3.1.4 Adéquation de la loi GEV ajustée aux estimations des maxima annuels\n",
    "\n",
    "Une fois les paramètres estimés, on procéde à une validation graphique en traçant les figures diagnostiques à l'aide de la fonction `diagnosticplots`.\n",
    "\n",
    "#### Adéquation générale avec les résidus"
   ]
  },
  {
   "cell_type": "code",
   "execution_count": null,
   "metadata": {},
   "outputs": [],
   "source": [
    "#TODO: Vérifiez l'adéquation du modèle à l'aide des figures diagnostiques\n"
   ]
  },
  {
   "cell_type": "markdown",
   "metadata": {},
   "source": [
    "### 3.1.5 Estimation des quantiles\n",
    "\n",
    "Les estimations des niveaux de retour associés à la période $T$ peuvent être obtenues en calculant les quantiles d'ordre $\\big(1-\\frac{1}{T}\\big)$ à l'aide de la fonction `quantile`. \n",
    "\n",
    "Par exemple, ici on calcule les niveaux de retour associés à une période de retour de 20 ans et on affiche la densité pour les 1001 itérations."
   ]
  },
  {
   "cell_type": "code",
   "execution_count": null,
   "metadata": {},
   "outputs": [],
   "source": [
    "# Période de retour\n",
    "T = 20\n",
    "\n",
    "#TODO: Calculez les quantiles correspondant à cette période de retour"
   ]
  },
  {
   "cell_type": "markdown",
   "metadata": {},
   "source": [
    "## 3.2 Modèle non stationnaire  <a name=\"mnstat1\"></a>\n",
    "\n",
    "Maintenant, on considère un modèle non stationnaire où le paramètre de localisation de la loi GEV est une fonction de la concentration de GES dans l'atmosphère.\n",
    "\n",
    "### 3.2.1 Chargement des variables exlicatives\n",
    "\n",
    "On doit d'abord charger puis construire la variable avec la fonction `buildVariables` de la librairie *Extremes.jl*."
   ]
  },
  {
   "cell_type": "code",
   "execution_count": null,
   "metadata": {},
   "outputs": [],
   "source": [
    "# Chargement de la concentration équivalente de CO2\n",
    "co2data = CSV.read(\"../0-Data/0-RCP/RCPdata.csv\", DataFrame);\n",
    "filter!(row->row.Year in pdata[1].year, co2data)\n",
    "\n",
    "# Standardisation de la variable explicative\n",
    "co2data[:, :RCP85std] = (co2data.RCP85 .- mean(co2data.RCP85)) ./ std(co2data.RCP85)\n",
    "\n",
    "# Encapsulation dela variable explicatice pour une utilisation efficace\n",
    "locationcov = Extremes.buildVariables(co2data, [:RCP85std])"
   ]
  },
  {
   "cell_type": "markdown",
   "metadata": {},
   "source": [
    "### 3.2.2 Définition du modèle\n",
    "\n",
    "Comme à la section 3.1.1, on encapsule les données et la loi *a priori* dans la strucutre `PseudoMaximaModel`. Cette fois-ci, on spécifie la variable explicative sur le paramètre de localisation avec l'argument `locationcov` pour définir le modèle non stationnaire. La loi *a priori* a maintenant une dimension supplémentaire mais elle reste informative que pour le paramètre de forme."
   ]
  },
  {
   "cell_type": "code",
   "execution_count": null,
   "metadata": {},
   "outputs": [],
   "source": [
    "model2 = PseudoMaximaModel(pdata, locationcov = locationcov, \n",
    "    prior=[Flat(), Flat(), Flat(), LocationScale(-.5, 1, Beta(6,9))])"
   ]
  },
  {
   "cell_type": "markdown",
   "metadata": {},
   "source": [
    "### 3.2.3 Génération d'un échantillon de la loi *a posteriori* par MCMC et estimation des paramètres\n",
    "\n",
    "Comme pour le modèle stationnaire, la fonction `fitbayes` permet de générer un échantillon de la loi *a posteriori*  du modèle bayésien non stationnaire défini précédement. "
   ]
  },
  {
   "cell_type": "code",
   "execution_count": null,
   "metadata": {},
   "outputs": [],
   "source": [
    "#TODO : Générer un échantillon de la loi a posteriori des paramètres et des maxima\n"
   ]
  },
  {
   "cell_type": "markdown",
   "metadata": {},
   "source": [
    "### 3.2.4 Affichage des estimations des maxima annuels"
   ]
  },
  {
   "cell_type": "code",
   "execution_count": null,
   "metadata": {},
   "outputs": [],
   "source": [
    "#TODO: Calculez l'estimation des maxima annuels\n"
   ]
  },
  {
   "cell_type": "code",
   "execution_count": null,
   "metadata": {},
   "outputs": [],
   "source": [
    "#TODO: Calculez les intervalles de crédibilité des maxima annuels\n"
   ]
  },
  {
   "cell_type": "code",
   "execution_count": null,
   "metadata": {},
   "outputs": [],
   "source": [
    "#TODO: Tracez la séries des maxima estimés ainsi que l'intervalle de crédibilité\n"
   ]
  },
  {
   "cell_type": "markdown",
   "metadata": {},
   "source": [
    "### 3.2.5 Adéquation de la loi GEV ajustée aux estimations des maxima annuels\n",
    "\n",
    "#### Adéquation générale avec les résidus"
   ]
  },
  {
   "cell_type": "code",
   "execution_count": null,
   "metadata": {},
   "outputs": [],
   "source": [
    "#TODO: Vérifiez l'adéquation du modèle à l'aide des figures diagnostiques\n"
   ]
  },
  {
   "cell_type": "markdown",
   "metadata": {},
   "source": [
    "### 3.2.6 Estimation des niveaux de retour effectifs\n",
    "\n",
    "Les estimations des niveaux de retour effectifs associés à la période $T$ **à chaque année** peuvent être obtenues en calculant les quantiles d'ordre $\\big(1-\\frac{1}{T}\\big)$ à l'aide de la fonction `quantile`. "
   ]
  },
  {
   "cell_type": "code",
   "execution_count": null,
   "metadata": {},
   "outputs": [],
   "source": [
    "# Période de retour\n",
    "T = 20\n",
    "\n",
    "#TODO: Calculez les quantiles correspondants \n",
    "# Difficile car les quantiles changent à chaque année\n",
    "# La façon que l'on propose de faire dans l'exemple et de traiter l'année comme une catégorie en Julia.\n",
    "# Il y a d'autres approches possibles."
   ]
  },
  {
   "cell_type": "markdown",
   "metadata": {},
   "source": [
    "---\n",
    "# 4. Sélection de modèle <a name=\"selection\"></a>\n",
    "\n",
    "La sélection de modèle se fait avec le critère d'information de déviance (DIC). La fonction `dic()` appliquée au modèle ajusté permet de calculer ce critère."
   ]
  },
  {
   "cell_type": "code",
   "execution_count": null,
   "metadata": {},
   "outputs": [],
   "source": [
    "#TODO: Calculez le DIC pour le modèle stationnaire et le modèle non stationnaire.\n"
   ]
  },
  {
   "cell_type": "markdown",
   "metadata": {},
   "source": [
    "Un modèle est considéré meilleur qu’un autre lorsque la valeur du DIC correspondant est plus faible. On cherche  à déterminer le modèle avec la plus petite valeur de DIC avec la fonction `argmin(res)` qui retourne l'indice du plus petit élément de `res`."
   ]
  },
  {
   "cell_type": "code",
   "execution_count": null,
   "metadata": {},
   "outputs": [],
   "source": [
    "#TODO: Sélectionnez le meilleur modèle.\n"
   ]
  },
  {
   "cell_type": "markdown",
   "metadata": {},
   "source": [
    "---\n",
    "# 5. Enregistrement du modèle <a name=\"enregistrement\"></a>\n",
    "\n",
    "Pour pouvoir utiliser les résultats de l'ajustement du modèle dans les parties suivantes de l'activité sans avoir à tout recalculer, il est utile d'enregistrer les résultats. La librairie Julia de base `Serialization` permet de sérialiser la structure `PseudoMaximaEVA` et de l'exporter sous forme de fichier .txt qui pourra être désérialiser dans les parties suivantes."
   ]
  },
  {
   "cell_type": "code",
   "execution_count": null,
   "metadata": {},
   "outputs": [],
   "source": [
    "using Serialization\n",
    "\n",
    "io = open(\"2-Results/Famine_pseudoObs.txt\", \"w\");\n",
    "\n",
    "#TODO: Remplacez fm1 par le nom de votre meilleur modèle dans la commande suivante et exécutez-la.\n",
    "serialize(io, fm1);\n",
    "\n",
    "close(io);"
   ]
  }
 ],
 "metadata": {
  "@webio": {
   "lastCommId": null,
   "lastKernelId": null
  },
  "hide_input": false,
  "kernelspec": {
   "display_name": "Julia 1.7.3",
   "language": "julia",
   "name": "julia-1.7"
  },
  "language_info": {
   "file_extension": ".jl",
   "mimetype": "application/julia",
   "name": "julia",
   "version": "1.7.3"
  }
 },
 "nbformat": 4,
 "nbformat_minor": 2
}
